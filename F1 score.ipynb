{
 "cells": [
  {
   "cell_type": "code",
   "execution_count": 1,
   "id": "35ea36a4",
   "metadata": {},
   "outputs": [
    {
     "name": "stdout",
     "output_type": "stream",
     "text": [
      "(5, 2, 1, 3)\n",
      "Precision of dataset =  0.7142857142857143 \n",
      "Recall of dataset =  0.8333333333333334\n",
      "F1 score is =  0.7692307692307692\n"
     ]
    }
   ],
   "source": [
    "y = [0,0,0,1,1,1,1,0,1,0,1]\n",
    "y_pred = [1,1,0,1,1,0,1,0,1,0,1]\n",
    "n = len(y)\n",
    "class conf:\n",
    "    TP = 0\n",
    "    TN = 0\n",
    "    FP = 0\n",
    "    FN = 0\n",
    "    prec = 0\n",
    "    recall = 0\n",
    "    def confusion_matrix(self):\n",
    "        for i in range(n):\n",
    "            if y[i] == 1 and y_pred[i] == 1:\n",
    "                self.TP += 1\n",
    "            if y[i] == 0 and y_pred[i] == 1:\n",
    "                self.FP += 1\n",
    "            if y[i] == 1 and y_pred[i] == 0:\n",
    "                self.FN += 1\n",
    "            if y[i] == 0 and y_pred[i] == 0:\n",
    "                self.TN += 1\n",
    "        return self.TP,self.FP,self.FN,self.TN\n",
    "    def prec_recall(self):\n",
    "        self.prec = self.TP/(self.TP + self.FP)\n",
    "        self.recall = self.TP/(self.TP + self.FN)\n",
    "        print(\"Precision of dataset = \",self.prec,\"\\nRecall of dataset = \",self.recall)\n",
    "    def f1_calc(self):\n",
    "        f1 = 2*(self.prec*self.recall)/(self.prec+self.recall)\n",
    "        print(\"F1 score is = \", f1)\n",
    "        \n",
    "model = conf()\n",
    "print(model.confusion_matrix())\n",
    "model.prec_recall()\n",
    "model.f1_calc()"
   ]
  },
  {
   "cell_type": "markdown",
   "id": "d12cb603",
   "metadata": {},
   "source": [
    "## OUR TESTING DATA  IS 76% ACCURATE !!!"
   ]
  },
  {
   "cell_type": "code",
   "execution_count": 2,
   "id": "b649c872",
   "metadata": {},
   "outputs": [
    {
     "data": {
      "text/plain": [
       "0.7692307692307692"
      ]
     },
     "execution_count": 2,
     "metadata": {},
     "output_type": "execute_result"
    }
   ],
   "source": [
    "from sklearn.metrics import f1_score\n",
    "f1_score(y,y_pred)"
   ]
  },
  {
   "cell_type": "code",
   "execution_count": null,
   "id": "af67d02c",
   "metadata": {},
   "outputs": [],
   "source": []
  }
 ],
 "metadata": {
  "kernelspec": {
   "display_name": "Python 3 (ipykernel)",
   "language": "python",
   "name": "python3"
  },
  "language_info": {
   "codemirror_mode": {
    "name": "ipython",
    "version": 3
   },
   "file_extension": ".py",
   "mimetype": "text/x-python",
   "name": "python",
   "nbconvert_exporter": "python",
   "pygments_lexer": "ipython3",
   "version": "3.9.12"
  }
 },
 "nbformat": 4,
 "nbformat_minor": 5
}
